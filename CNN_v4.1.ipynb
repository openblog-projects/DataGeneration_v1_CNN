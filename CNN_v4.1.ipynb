{
 "cells": [
  {
   "cell_type": "code",
   "execution_count": 38,
   "id": "a6555dc9",
   "metadata": {},
   "outputs": [],
   "source": [
    "import torch\n",
    "import torchvision \n",
    "import torch.nn.functional as F  \n",
    "import torchvision.datasets as datasets  \n",
    "import torchvision.transforms as transforms \n",
    "from torch import optim  \n",
    "from torch import nn  \n",
    "from torch.utils.data import DataLoader  \n",
    "from tqdm import tqdm  "
   ]
  },
  {
   "cell_type": "code",
   "execution_count": 39,
   "id": "f0cc64df",
   "metadata": {},
   "outputs": [],
   "source": [
    "class CNN(nn.Module):\n",
    "    def __init__(self, in_channels=3, num_classes=2):\n",
    "        super(CNN, self).__init__()\n",
    "        self.conv1 = nn.Conv2d(\n",
    "            in_channels=in_channels,\n",
    "            out_channels=8,\n",
    "            kernel_size=(3, 3),\n",
    "            stride=(1, 1),\n",
    "            padding=(1, 1),\n",
    "        )\n",
    "        self.pool = nn.MaxPool2d(kernel_size=(2, 2), stride=(2, 2))\n",
    "        self.conv2 = nn.Conv2d(\n",
    "            in_channels=8,\n",
    "            out_channels=16,\n",
    "            kernel_size=(3, 3),\n",
    "            stride=(1, 1),\n",
    "            padding=(1, 1),\n",
    "        )\n",
    "        self.fc1 = nn.Linear(16 * 7 * 7, num_classes)\n",
    "\n",
    "    def forward(self, x):\n",
    "        x = F.relu(self.conv1(x))\n",
    "        x = self.pool(x)\n",
    "        x = F.relu(self.conv2(x))\n",
    "        x = self.pool(x)\n",
    "        x = x.reshape(x.shape[0], -1)\n",
    "        x = self.fc1(x)\n",
    "        return x"
   ]
  },
  {
   "cell_type": "code",
   "execution_count": 40,
   "id": "4247850e",
   "metadata": {},
   "outputs": [],
   "source": [
    "device = torch.device(\"cuda\" if torch.cuda.is_available() else \"cpu\")\n",
    "\n",
    "# Hyperparameters\n",
    "in_channels = 3\n",
    "num_classes = 2\n",
    "learning_rate = 0.001\n",
    "batch_size = 8\n",
    "num_epochs = 15"
   ]
  },
  {
   "cell_type": "code",
   "execution_count": 41,
   "id": "3bd826bb",
   "metadata": {},
   "outputs": [],
   "source": [
    "transformer=transforms.Compose([\n",
    "    transforms.Resize((28,28)),\n",
    "    transforms.ToTensor(), # pixelrange (of each colour channel) from 0-255 to 0-; datatyp of image is now tensor,not numpy\n",
    "    #transforms.Normalize([0.5,0.5,0.5], #range from 0-1 to [-1,1]\n",
    "     #                   [0.5,0.5,0.5])\n",
    "]\n",
    ")\n",
    "train_path='/home/b1/CNN/DataGeneration_v1_CNN/dataset_fullBackgrNoSD/train'\n",
    "test_path='/home/b1/CNN/DataGeneration_v1_CNN/dataset_fullBackgrNoSD/test'\n",
    "\n",
    "train_loader = DataLoader(\n",
    "    datasets.ImageFolder(train_path,transform=transformer),\n",
    "    batch_size=batch_size, shuffle=True\n",
    ")\n",
    "test_loader = DataLoader(\n",
    "    datasets.ImageFolder(test_path,transform=transformer),\n",
    "    batch_size=batch_size, shuffle=True\n",
    ")"
   ]
  },
  {
   "cell_type": "code",
   "execution_count": 42,
   "id": "8813d7c1",
   "metadata": {},
   "outputs": [],
   "source": [
    "model = CNN(in_channels=in_channels, num_classes=num_classes).to(device)\n",
    "\n",
    "# Loss and optimizer\n",
    "criterion = nn.CrossEntropyLoss()\n",
    "optimizer = optim.Adam(model.parameters(), lr=learning_rate)\n"
   ]
  },
  {
   "cell_type": "code",
   "execution_count": 43,
   "id": "b0b14568",
   "metadata": {},
   "outputs": [
    {
     "name": "stderr",
     "output_type": "stream",
     "text": [
      "100%|██████████| 92/92 [00:04<00:00, 19.86it/s]\n",
      "100%|██████████| 92/92 [00:04<00:00, 20.23it/s]\n",
      "100%|██████████| 92/92 [00:04<00:00, 20.09it/s]\n",
      "100%|██████████| 92/92 [00:04<00:00, 21.79it/s]\n",
      "100%|██████████| 92/92 [00:04<00:00, 20.04it/s]\n",
      "100%|██████████| 92/92 [00:04<00:00, 21.45it/s]\n",
      "100%|██████████| 92/92 [00:04<00:00, 21.11it/s]\n",
      "100%|██████████| 92/92 [00:04<00:00, 19.55it/s]\n",
      "100%|██████████| 92/92 [00:04<00:00, 20.66it/s]\n",
      "100%|██████████| 92/92 [00:04<00:00, 20.82it/s]\n",
      "100%|██████████| 92/92 [00:04<00:00, 19.41it/s]\n",
      "100%|██████████| 92/92 [00:04<00:00, 21.05it/s]\n",
      "100%|██████████| 92/92 [00:04<00:00, 21.25it/s]\n",
      "100%|██████████| 92/92 [00:04<00:00, 19.76it/s]\n",
      "100%|██████████| 92/92 [00:04<00:00, 21.12it/s]\n"
     ]
    },
    {
     "name": "stdout",
     "output_type": "stream",
     "text": [
      "Accuracy on training set: 97.53\n",
      "Accuracy on test set: 69.65\n"
     ]
    }
   ],
   "source": [
    "for epoch in range(num_epochs):\n",
    "    for batch_idx, (data, targets) in enumerate(tqdm(train_loader)):\n",
    "        # Get data to cuda if possible\n",
    "        data = data.to(device=device)\n",
    "        targets = targets.to(device=device)\n",
    "\n",
    "        # forward\n",
    "        scores = model(data)\n",
    "        loss = criterion(scores, targets)\n",
    "\n",
    "        # backward\n",
    "        optimizer.zero_grad()\n",
    "        loss.backward()\n",
    "\n",
    "        # gradient descent or adam step\n",
    "        optimizer.step()\n",
    "        \n",
    "def check_accuracy(loader, model):\n",
    "    num_correct = 0\n",
    "    num_samples = 0\n",
    "    model.eval()\n",
    "\n",
    "    with torch.no_grad():\n",
    "        for x, y in loader:\n",
    "            x = x.to(device=device)\n",
    "            y = y.to(device=device)\n",
    "\n",
    "            scores = model(x)\n",
    "            _, predictions = scores.max(1)\n",
    "            num_correct += (predictions == y).sum()\n",
    "            num_samples += predictions.size(0)\n",
    "\n",
    "\n",
    "    model.train()\n",
    "    return num_correct/num_samples\n",
    "\n",
    "\n",
    "print(f\"Accuracy on training set: {check_accuracy(train_loader, model)*100:.2f}\")\n",
    "print(f\"Accuracy on test set: {check_accuracy(test_loader, model)*100:.2f}\")        \n"
   ]
  },
  {
   "cell_type": "code",
   "execution_count": null,
   "id": "b4c8fcba",
   "metadata": {},
   "outputs": [],
   "source": []
  }
 ],
 "metadata": {
  "kernelspec": {
   "display_name": "Python 3",
   "language": "python",
   "name": "python3"
  },
  "language_info": {
   "codemirror_mode": {
    "name": "ipython",
    "version": 3
   },
   "file_extension": ".py",
   "mimetype": "text/x-python",
   "name": "python",
   "nbconvert_exporter": "python",
   "pygments_lexer": "ipython3",
   "version": "3.8.10"
  }
 },
 "nbformat": 4,
 "nbformat_minor": 5
}
