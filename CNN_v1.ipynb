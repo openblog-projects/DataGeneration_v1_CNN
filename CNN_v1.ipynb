{
 "cells": [
  {
   "cell_type": "code",
   "execution_count": 20,
   "id": "7d233c7c",
   "metadata": {},
   "outputs": [],
   "source": [
    "import pandas as pd\n",
    "import matplotlib.pyplot as plt\n",
    "import torch\n",
    "import torchvision\n",
    "import torch.nn as nn\n",
    "import torch.optim as optim\n",
    "import torch.nn.functional as F\n",
    "from torchvision import transforms, utils, datasets\n",
    "from torch.utils.data import Dataset, DataLoader"
   ]
  },
  {
   "cell_type": "code",
   "execution_count": 21,
   "id": "5d65971d",
   "metadata": {},
   "outputs": [],
   "source": [
    "train_transform = transforms.Compose([transforms.Resize(255),transforms.RandomResizedCrop(224),\n",
    "                                transforms.CenterCrop(224),\n",
    "                                transforms.ToTensor()])\n",
    "test_transform = transforms.Compose([\n",
    "                                transforms.Resize(255),\n",
    "                                transforms.CenterCrop(224),\n",
    "                                transforms.ToTensor()])"
   ]
  },
  {
   "cell_type": "code",
   "execution_count": 22,
   "id": "4b3da71a",
   "metadata": {},
   "outputs": [],
   "source": [
    "train_data = datasets.ImageFolder(\"dataset_1/train\", transform=train_transform)\n",
    "test_data = datasets.ImageFolder(\"dataset_1/test\", transform=test_transform)"
   ]
  },
  {
   "cell_type": "code",
   "execution_count": 23,
   "id": "73a90558",
   "metadata": {},
   "outputs": [],
   "source": [
    "train_loader = torch.utils.data.DataLoader(train_data, batch_size=16,shuffle=True)\n",
    "test_loader = torch.utils.data.DataLoader(test_data, batch_size=16)"
   ]
  },
  {
   "cell_type": "code",
   "execution_count": 24,
   "id": "0c5c614a",
   "metadata": {},
   "outputs": [],
   "source": [
    "class Binary_Classifier(nn.Module): \n",
    "    def __init__(self):\n",
    "        # super(Binary_Classifier, self).__init__()\n",
    "        super().__init__()\n",
    "        self.conv1 = nn.Conv2d(in_channels=3, out_channels=10, kernel_size=3)\n",
    "        self.conv2 = nn.Conv2d(10, 20, kernel_size=3)\n",
    "        self.conv2_drop = nn.Dropout2d()\n",
    "        # self.fc1 = nn.Linear(720, 1024)\n",
    "        self.fc1 = nn.Linear(58320, 1024)\n",
    "        self.fc2 = nn.Linear(1024, 2)\n",
    "\n",
    "    def forward(self, x):\n",
    "        x = F.relu(F.max_pool2d(self.conv1(x), 2))\n",
    "        x = F.relu(F.max_pool2d(self.conv2_drop(self.conv2(x)), 2))\n",
    "        x = x.view(x.shape[0],-1)\n",
    "        x = F.relu(self.fc1(x))\n",
    "        x = F.dropout(x, training=self.training)\n",
    "        x = self.fc2(x)\n",
    "        return x"
   ]
  },
  {
   "cell_type": "code",
   "execution_count": 25,
   "id": "41dfefad",
   "metadata": {},
   "outputs": [],
   "source": [
    "learning_rate = 0.05\n",
    "model=Binary_Classifier()\n",
    "criterion = nn.CrossEntropyLoss()\n",
    "optimizer = torch.optim.Adam(model.parameters(),lr = learning_rate)"
   ]
  },
  {
   "cell_type": "code",
   "execution_count": 26,
   "id": "fd797733",
   "metadata": {},
   "outputs": [],
   "source": [
    "train_losses = []\n",
    "num_epochs=2\n",
    "for epoch in range(1, num_epochs):\n",
    "    train_loss = 0.0\n",
    "    model.train()\n",
    "    for data, target in train_loader:\n",
    "  \n",
    "        optimizer.zero_grad()\n",
    "        #forward-pass\n",
    "        output = model(data)\n",
    "        loss = criterion(output, target)\n",
    "        #backward-pass\n",
    "        loss.backward()\n",
    "        # Update the parameters\n",
    "        optimizer.step()\n",
    "        # Update the Training loss\n",
    "        train_loss += loss.item() * data.size(0)"
   ]
  },
  {
   "cell_type": "code",
   "execution_count": 27,
   "id": "9837ab88",
   "metadata": {},
   "outputs": [
    {
     "name": "stdout",
     "output_type": "stream",
     "text": [
      "[]\n"
     ]
    }
   ],
   "source": [
    "print(train_losses)"
   ]
  },
  {
   "cell_type": "code",
   "execution_count": null,
   "id": "ab55ad7a",
   "metadata": {},
   "outputs": [],
   "source": []
  }
 ],
 "metadata": {
  "kernelspec": {
   "display_name": "Python 3",
   "language": "python",
   "name": "python3"
  },
  "language_info": {
   "codemirror_mode": {
    "name": "ipython",
    "version": 3
   },
   "file_extension": ".py",
   "mimetype": "text/x-python",
   "name": "python",
   "nbconvert_exporter": "python",
   "pygments_lexer": "ipython3",
   "version": "3.8.10"
  }
 },
 "nbformat": 4,
 "nbformat_minor": 5
}
